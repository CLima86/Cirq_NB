{
 "cells": [
  {
   "cell_type": "code",
   "execution_count": 1,
   "metadata": {},
   "outputs": [
    {
     "name": "stdout",
     "output_type": "stream",
     "text": [
      "[cirq.GridQubit(0, 0), cirq.GridQubit(0, 1), cirq.GridQubit(0, 2), cirq.GridQubit(1, 0), cirq.GridQubit(1, 1), cirq.GridQubit(1, 2), cirq.GridQubit(2, 0), cirq.GridQubit(2, 1), cirq.GridQubit(2, 2)]\n"
     ]
    }
   ],
   "source": [
    "# Play with qubits.\n",
    "# Qubits will be placed on a grid.\n",
    "\n",
    "import cirq\n",
    "# define the length of the grid\n",
    "length = 3\n",
    "# define the qubits on the grid using list comprehension\n",
    "qubits  = [cirq.GridQubit(i, j) for i in range(length) for j in range(length)]\n",
    "print(qubits)\n",
    "# prints:\n",
    "# cirq.GridQubit(0, 0), cirq.GridQubit(0, 1), cirq.GridQubit(0, 2), cirq.GridQubit(1, 0), cirq.GridQubit(1, 1), cirq.GridQubit(1, 2), cirq.GridQubit(2, 0), cirq.GridQubit(2, 1), cirq.GridQubit(2, 2)]\n",
    "# essentially the total combinations of upto length 3.\n",
    "# 'GridQubit' implements the 'Qid' class, which is hashable."
   ]
  },
  {
   "cell_type": "code",
   "execution_count": 2,
   "metadata": {},
   "outputs": [
    {
     "name": "stdout",
     "output_type": "stream",
     "text": [
      "(0, 0): ───H───\n",
      "\n",
      "(0, 1): ───X───\n",
      "\n",
      "(0, 2): ───H───\n",
      "\n",
      "(1, 0): ───X───\n",
      "\n",
      "(1, 1): ───H───\n",
      "\n",
      "(1, 2): ───X───\n",
      "\n",
      "(2, 0): ───H───\n",
      "\n",
      "(2, 1): ───X───\n",
      "\n",
      "(2, 2): ───H───\n"
     ]
    }
   ],
   "source": [
    "# Now that we have qubits, let's construct a 'Circuit' on these qubits.\n",
    "# Here we will apply the Hadamard gate 'H' to every qubit, whose\n",
    "# row index plu column index is even. And an 'X' gate to those with odd\n",
    "# sum of row and column index.\n",
    "circuit = cirq.Circuit()\n",
    "circuit.append(cirq.H(q) for q in qubits if (q.row + q.col) % 2 == 0)\n",
    "circuit.append(cirq.X(q) for q in qubits if (q.row + q.col) % 2 == 1)\n",
    "print(circuit)\n",
    "# Will print the qubits that have the Hadamard gate apllied and those with Pauli X gate applied.\n",
    "# Here we are applying single qubit gates.\n",
    "# Gates appearing in a single vertical line, as they are here,\n",
    "# constitute a moment(collection of operations)."
   ]
  },
  {
   "cell_type": "code",
   "execution_count": 3,
   "metadata": {},
   "outputs": [
    {
     "name": "stdout",
     "output_type": "stream",
     "text": [
      "(0, 0): ───H───────\n",
      "\n",
      "(0, 1): ───────X───\n",
      "\n",
      "(0, 2): ───H───────\n",
      "\n",
      "(1, 0): ───────X───\n",
      "\n",
      "(1, 1): ───H───────\n",
      "\n",
      "(1, 2): ───────X───\n",
      "\n",
      "(2, 0): ───H───────\n",
      "\n",
      "(2, 1): ───────X───\n",
      "\n",
      "(2, 2): ───H───────\n"
     ]
    }
   ],
   "source": [
    "# Let's change the fact that we have a \"moment\" for these qubits.\n",
    "circuit = cirq.Circuit()\n",
    "circuit.append([cirq.H(q) for q in qubits if (q.row + q.col) % 2 == 0],\n",
    "               strategy=cirq.InsertStrategy.EARLIEST)\n",
    "circuit.append([cirq.X(q) for q in qubits if (q.row + q.col) % 2 == 1],\n",
    "               strategy=cirq.InsertStrategy.NEW_THEN_INLINE)\n",
    "print(circuit)\n",
    "# Now the circuit has staggered the operations, giving us two moments."
   ]
  },
  {
   "cell_type": "code",
   "execution_count": 4,
   "metadata": {},
   "outputs": [
    {
     "name": "stdout",
     "output_type": "stream",
     "text": [
      "Moment 0: H((0, 0)) and H((0, 2)) and H((1, 1)) and H((2, 0)) and H((2, 2))\n",
      "Moment 1: X((0, 1)) and X((1, 0)) and X((1, 2)) and X((2, 1))\n"
     ]
    }
   ],
   "source": [
    "for i , m in enumerate(circuit):\n",
    "    print('Moment {}: {}'.format(i, m))\n",
    "# This gives us the breakdown of where our qubits lie w.r.t. the moments."
   ]
  },
  {
   "cell_type": "code",
   "execution_count": 5,
   "metadata": {},
   "outputs": [
    {
     "name": "stdout",
     "output_type": "stream",
     "text": [
      "(0, 0): ───X^0.1───\n",
      "\n",
      "(0, 1): ───X^0.1───\n",
      "\n",
      "(1, 0): ───X^0.1───\n",
      "\n",
      "(1, 1): ───X^0.1───\n"
     ]
    }
   ],
   "source": [
    "# Define a function that takes in relevant parameters \n",
    "# and then yields the operations for the sub circuit, then this\n",
    "# can be appended to the Circuit\n",
    "def rot_x_layer(length, half_turns):\n",
    "    \"\"\"Yields X rotations by half_turns on a square gridof given length.\"\"\"\n",
    "    rot = cirq.XPowGate(exponent=half_turns)\n",
    "    for i in range(length):\n",
    "        for j in range(length):\n",
    "            yield rot(cirq.GridQubit(i, j))\n",
    "            \n",
    "circuit = cirq.Circuit()\n",
    "circuit.append(rot_x_layer(2, 0.1))\n",
    "print(circuit)"
   ]
  },
  {
   "cell_type": "code",
   "execution_count": 6,
   "metadata": {},
   "outputs": [
    {
     "name": "stdout",
     "output_type": "stream",
     "text": [
      "transverse fields: [[-1, -1, 1], [-1, -1, 1], [-1, 1, -1]]\n",
      "row j fields: [[-1, 1, 1], [1, 1, 1]]\n",
      "column j fields: [[-1, 1, 1], [1, 1, 1]]\n"
     ]
    }
   ],
   "source": [
    "# Here we generate random problem instances\n",
    "import random\n",
    "def rand2d(rows, cols):\n",
    "    return [[random.choice([+1, -1]) for _ in range(cols)] for _ in range(rows)]\n",
    "\n",
    "def random_instance(length):\n",
    "    # transverse field terms\n",
    "    h = rand2d(length, length)\n",
    "    # links within a row\n",
    "    jr = rand2d(length -1, length)\n",
    "    # links within a column\n",
    "    jc = rand2d(length, length -1)\n",
    "    return (h, jr, jc)\n",
    "\n",
    "h, jr, jc = random_instance(3)\n",
    "print('transverse fields: {}'.format(h))\n",
    "print('row j fields: {}'.format(jr))\n",
    "print('column j fields: {}'.format(jr))\n",
    "# prints something like\n",
    "# transverse fields: [[-1, 1, -1], [1, -1, -1], [-1, 1, -1]]\n",
    "# row j fields: [[1, 1, -1], [1, -1, 1]]\n",
    "# column j fields: [[1, -1], [-1, 1], [-1, 1]]"
   ]
  },
  {
   "cell_type": "code",
   "execution_count": 7,
   "metadata": {},
   "outputs": [],
   "source": [
    "\"\"\"\n",
    "Make an ansatz which consists of one step of a circuit made up of\n",
    "1. Applying an XPowGate for the same parameter for all qubits. The method written above.\n",
    "2. Applying a ZPowGate for the same parameter for all qubits where the transverse field term is +1.\n",
    "\"\"\"\n",
    "def rot_z_layer(h, half_turns):\n",
    "    \"\"\"Yields Z rotations by half_turns conditioned on the field h.\"\"\"\n",
    "    gate = cirq.ZPowGate(exponent=half_turns)\n",
    "    for i, h_row in enumerate(h):\n",
    "        for j, h_ij in enumerate(h_row):\n",
    "            if h_ij == 1:\n",
    "                yield(gate(cirq.GridQubit(i, j)))"
   ]
  },
  {
   "cell_type": "code",
   "execution_count": 8,
   "metadata": {},
   "outputs": [],
   "source": [
    "\"\"\"\n",
    "Apply CZPowGate for the same parameter between all qubits where the coupling field term J\n",
    "is +1. If the field is -1 apply CZPowGate conjugated by X gates on all qubits.\n",
    "\"\"\"\n",
    "def rot_11_layer(jr, jc, half_turns):\n",
    "    \"\"\"Yields rotations about |11> conditioned on the jr, jc fields.\"\"\"\n",
    "    gate = cirq.CZPowGate(exponent=half_turns)\n",
    "    for i, jr_row in enumerate(jr):\n",
    "        for j, jr_ij in enumerate(jr_row):\n",
    "            if jr_ij ==-1:\n",
    "                yield cirq.X(cirq.GridQubit(i, j))\n",
    "                yield cirq.X(cirq.GridQubit(i + 1, j))\n",
    "            yield gate(cirq.GridQubit(i, j),\n",
    "                       cirq.GridQubit(i + 1, j))\n",
    "            \n",
    "            if jr_ij == -1:\n",
    "                yield cirq.X(cirq.GridQubit(i, j))\n",
    "                yield cirq.X(cirq.GridQubit(i + 1, j))\n",
    "                \n",
    "    for i, jc_row in enumerate(jc):\n",
    "        for j, jc_ij in enumerate(jc_row):\n",
    "            if jc_ij == -1:\n",
    "                yield cirq.X(cirq.GridQubit(i, j))\n",
    "                yield cirq.X(cirq.GridQubit(i, j + 1))\n",
    "            yield gate(cirq.GridQubit(i, j),\n",
    "                       cirq.GridQubit(i, j + 1))\n",
    "            if jc_ij == -1:\n",
    "                yield cirq.X(cirq.GridQubit(i, j))\n",
    "                yield cirq.X(cirq.GridQubit(i, j + 1))"
   ]
  },
  {
   "cell_type": "code",
   "execution_count": 9,
   "metadata": {},
   "outputs": [
    {
     "name": "stdout",
     "output_type": "stream",
     "text": [
      "                           ┌──────────┐           ┌──────────┐\n",
      "(0, 0): ───X^0.1───Z^0.2────@─────────────@──────────────────────────────────────────────────\n",
      "                            │             │\n",
      "(0, 1): ───X^0.1───@────────┼─────────────@^0.3────@─────────────────────────────────────────\n",
      "                   │        │                      │\n",
      "(0, 2): ───X^0.1───┼────────┼────@─────────────────@^0.3─────────────────────────────────────\n",
      "                   │        │    │\n",
      "(1, 0): ───X^0.1───┼────────@^0.3┼────────X────────@─────────────X───X───@───────X───────────\n",
      "                   │             │                 │                     │\n",
      "(1, 1): ───X^0.1───@^0.3────@────┼────────X────────┼─────────────────────@^0.3───X───@───────\n",
      "                            │    │                 │                                 │\n",
      "(1, 2): ───X^0.1───Z^0.2────┼────@^0.3────X────────┼────@────────X───────────────────@^0.3───\n",
      "                            │                      │    │\n",
      "(2, 0): ───X^0.1───X────────┼──────────────────────@^0.3┼────────X───X───@───────X───────────\n",
      "                            │                           │                │\n",
      "(2, 1): ───X^0.1────────────@^0.3─────────X─────────────┼────────────────@^0.3───X───@───────\n",
      "                                                        │                            │\n",
      "(2, 2): ───X^0.1───Z^0.2────X───────────────────────────@^0.3────X───────────────────@^0.3───\n",
      "                           └──────────┘           └──────────┘\n"
     ]
    }
   ],
   "source": [
    "def one_step(h, jr, jc, x_half_turns, h_half_turns, j_half_turns):\n",
    "    length = len(h)\n",
    "    yield rot_x_layer(length, x_half_turns)\n",
    "    yield rot_z_layer(h, h_half_turns)\n",
    "    yield rot_11_layer(jr, jc, j_half_turns)\n",
    "    \n",
    "h, jr, jc = random_instance(3)\n",
    "\n",
    "circuit = cirq.Circuit()\n",
    "circuit.append(one_step(h, jr, jc, 0.1, 0.2, 0.3),\n",
    "               strategy=cirq.InsertStrategy.EARLIEST)\n",
    "print(circuit)"
   ]
  },
  {
   "cell_type": "code",
   "execution_count": 10,
   "metadata": {},
   "outputs": [
    {
     "name": "stdout",
     "output_type": "stream",
     "text": [
      "Counter({0: 79, 32: 6, 16: 4, 1: 2, 2: 2, 256: 2, 4: 2, 329: 1, 128: 1, 8: 1})\n"
     ]
    }
   ],
   "source": [
    "## Simulation ##\n",
    "\"\"\"\n",
    "In Cirq the simulators make a distinction between a 'run' and a 'simulation'.\n",
    "A run only allows for a simulation that MIMICS the actual quantum hardware. E.g., it\n",
    "does not allow for access to the amplitudes of the wave function of the system, since\n",
    "that's not experimentally accessible. To run a simulation of the full circuit we simply\n",
    "create a simulator, and pass the circuit to the simulator.\n",
    "\"\"\"\n",
    "\n",
    "simulator = cirq.Simulator()\n",
    "circuit = cirq.Circuit()\n",
    "circuit.append(one_step(h, jr, jc, 0.1, 0.2, 0.3))\n",
    "circuit.append(cirq.measure(*qubits, key='x'))\n",
    "results = simulator.run(circuit, repetitions=100)\n",
    "print(results.histogram(key='x'))"
   ]
  },
  {
   "cell_type": "code",
   "execution_count": 11,
   "metadata": {},
   "outputs": [
    {
     "name": "stdout",
     "output_type": "stream",
     "text": [
      "Counter({1: 81, 5: 6, -1: 6, -5: 2, -3: 2, 7: 2, -13: 1})\n"
     ]
    }
   ],
   "source": [
    "import numpy as np\n",
    "\n",
    "def energy_func(length, h, jr, jc):\n",
    "    def energy(measurements):\n",
    "        # Reshape measurement into array that matches grid shape.\n",
    "        meas_list_of_lists = [measurements[i * length:(i + 1) * length]\n",
    "                              for i in range(length)]\n",
    "        # Convert true/false to +1/-1.\n",
    "        pm_meas = 1 - 2 * np.array(meas_list_of_lists).astype(np.int32)\n",
    "\n",
    "        tot_energy = np.sum(pm_meas * h)\n",
    "        for i, jr_row in enumerate(jr):\n",
    "            for j, jr_ij in enumerate(jr_row):\n",
    "                tot_energy += jr_ij * pm_meas[i, j] * pm_meas[i + 1, j]\n",
    "        for i, jc_row in enumerate(jc):\n",
    "            for j, jc_ij in enumerate(jc_row):\n",
    "                tot_energy += jc_ij * pm_meas[i, j] * pm_meas[i, j + 1]\n",
    "        return tot_energy\n",
    "    return energy\n",
    "print(results.histogram(key='x', fold_func=energy_func(3, h, jr, jc)))"
   ]
  },
  {
   "cell_type": "code",
   "execution_count": 12,
   "metadata": {},
   "outputs": [
    {
     "name": "stdout",
     "output_type": "stream",
     "text": [
      "Value of the objective function 0.9\n"
     ]
    }
   ],
   "source": [
    "# One can calculate the expectation value over all repetitions.\n",
    "def obj_func(result):\n",
    "    energy_hist = result.histogram(key='x', fold_func=energy_func(3, h, jr, jc))\n",
    "    return np.sum([k * v for k,v in energy_hist.items()]) / result.repetitions\n",
    "print('Value of the objective function {}'.format(obj_func(results)))"
   ]
  },
  {
   "cell_type": "code",
   "execution_count": 13,
   "metadata": {},
   "outputs": [
    {
     "name": "stdout",
     "output_type": "stream",
     "text": [
      "                               ┌──────────────┐             ┌──────────────┐\n",
      "(0, 0): ───X^alpha───Z^beta─────@─────────────────@────────────────────────────────────────────────────────────M('x')───\n",
      "                                │                 │                                                            │\n",
      "(0, 1): ───X^alpha───@──────────┼─────────────────@^gamma────@─────────────────────────────────────────────────M────────\n",
      "                     │          │                            │                                                 │\n",
      "(0, 2): ───X^alpha───┼──────────┼──────@─────────────────────@^gamma───────────────────────────────────────────M────────\n",
      "                     │          │      │                                                                       │\n",
      "(1, 0): ───X^alpha───┼──────────@^gamma┼──────────X──────────@─────────────────X───X───@─────────X─────────────M────────\n",
      "                     │                 │                     │                         │                       │\n",
      "(1, 1): ───X^alpha───@^gamma────@──────┼──────────X──────────┼─────────────────────────@^gamma───X───@─────────M────────\n",
      "                                │      │                     │                                       │         │\n",
      "(1, 2): ───X^alpha───Z^beta─────┼──────@^gamma────X──────────┼──────@──────────X─────────────────────@^gamma───M────────\n",
      "                                │                            │      │                                          │\n",
      "(2, 0): ───X^alpha───X──────────┼────────────────────────────@^gamma┼──────────X───X───@─────────X─────────────M────────\n",
      "                                │                                   │                  │                       │\n",
      "(2, 1): ───X^alpha──────────────@^gamma───────────X─────────────────┼──────────────────@^gamma───X───@─────────M────────\n",
      "                                                                    │                                │         │\n",
      "(2, 2): ───X^alpha───Z^beta─────X───────────────────────────────────@^gamma────X─────────────────────@^gamma───M────────\n",
      "                               └──────────────┘             └──────────────┘\n"
     ]
    }
   ],
   "source": [
    "# Parameterizing the ansatz #\n",
    "\"\"\"\n",
    "On quantum hardware one would most likely want to have\n",
    "the optimization code as close to the hardware as possible.\n",
    "\"\"\"\n",
    "import sympy\n",
    "circuit = cirq.Circuit()\n",
    "alpha = sympy.Symbol('alpha')\n",
    "beta = sympy.Symbol('beta')\n",
    "gamma = sympy.Symbol('gamma')\n",
    "circuit.append(one_step(h, jr, jc, alpha, beta, gamma))\n",
    "circuit.append(cirq.measure(*qubits, key='x'))\n",
    "print(circuit)"
   ]
  },
  {
   "cell_type": "code",
   "execution_count": 14,
   "metadata": {},
   "outputs": [],
   "source": [
    "resolver = cirq.ParamResolver({'alpha': 0.1, 'beta': 0.3, 'gamma': 0.7})\n",
    "resolved_circuit = cirq.resolve_parameters(circuit, resolver)\n",
    "# Resolves the parameters to actual values in the above circuit."
   ]
  },
  {
   "cell_type": "code",
   "execution_count": 15,
   "metadata": {},
   "outputs": [
    {
     "name": "stdout",
     "output_type": "stream",
     "text": [
      "OrderedDict([('alpha', 0.1), ('beta', 0.1), ('gamma', 0.1)]) 0.94\n",
      "OrderedDict([('alpha', 0.1), ('beta', 0.1), ('gamma', 0.30000000000000004)]) 0.44\n",
      "OrderedDict([('alpha', 0.1), ('beta', 0.1), ('gamma', 0.5)]) 0.82\n",
      "OrderedDict([('alpha', 0.1), ('beta', 0.1), ('gamma', 0.7000000000000001)]) 1.1\n",
      "OrderedDict([('alpha', 0.1), ('beta', 0.1), ('gamma', 0.9)]) 0.56\n",
      "OrderedDict([('alpha', 0.1), ('beta', 0.30000000000000004), ('gamma', 0.1)]) 0.74\n",
      "OrderedDict([('alpha', 0.1), ('beta', 0.30000000000000004), ('gamma', 0.30000000000000004)]) 0.82\n",
      "OrderedDict([('alpha', 0.1), ('beta', 0.30000000000000004), ('gamma', 0.5)]) 0.74\n",
      "OrderedDict([('alpha', 0.1), ('beta', 0.30000000000000004), ('gamma', 0.7000000000000001)]) 0.56\n",
      "OrderedDict([('alpha', 0.1), ('beta', 0.30000000000000004), ('gamma', 0.9)]) 0.56\n",
      "OrderedDict([('alpha', 0.1), ('beta', 0.5), ('gamma', 0.1)]) 0.64\n",
      "OrderedDict([('alpha', 0.1), ('beta', 0.5), ('gamma', 0.30000000000000004)]) 0.88\n",
      "OrderedDict([('alpha', 0.1), ('beta', 0.5), ('gamma', 0.5)]) 0.54\n",
      "OrderedDict([('alpha', 0.1), ('beta', 0.5), ('gamma', 0.7000000000000001)]) 0.94\n",
      "OrderedDict([('alpha', 0.1), ('beta', 0.5), ('gamma', 0.9)]) 0.6\n",
      "OrderedDict([('alpha', 0.1), ('beta', 0.7000000000000001), ('gamma', 0.1)]) 0.7\n",
      "OrderedDict([('alpha', 0.1), ('beta', 0.7000000000000001), ('gamma', 0.30000000000000004)]) 0.56\n",
      "OrderedDict([('alpha', 0.1), ('beta', 0.7000000000000001), ('gamma', 0.5)]) 0.74\n",
      "OrderedDict([('alpha', 0.1), ('beta', 0.7000000000000001), ('gamma', 0.7000000000000001)]) 0.72\n",
      "OrderedDict([('alpha', 0.1), ('beta', 0.7000000000000001), ('gamma', 0.9)]) 0.64\n",
      "OrderedDict([('alpha', 0.1), ('beta', 0.9), ('gamma', 0.1)]) 0.76\n",
      "OrderedDict([('alpha', 0.1), ('beta', 0.9), ('gamma', 0.30000000000000004)]) 0.78\n",
      "OrderedDict([('alpha', 0.1), ('beta', 0.9), ('gamma', 0.5)]) 1.0\n",
      "OrderedDict([('alpha', 0.1), ('beta', 0.9), ('gamma', 0.7000000000000001)]) 0.94\n",
      "OrderedDict([('alpha', 0.1), ('beta', 0.9), ('gamma', 0.9)]) 0.92\n",
      "OrderedDict([('alpha', 0.30000000000000004), ('beta', 0.1), ('gamma', 0.1)]) -0.16\n",
      "OrderedDict([('alpha', 0.30000000000000004), ('beta', 0.1), ('gamma', 0.30000000000000004)]) -0.3\n",
      "OrderedDict([('alpha', 0.30000000000000004), ('beta', 0.1), ('gamma', 0.5)]) -0.12\n",
      "OrderedDict([('alpha', 0.30000000000000004), ('beta', 0.1), ('gamma', 0.7000000000000001)]) -0.1\n",
      "OrderedDict([('alpha', 0.30000000000000004), ('beta', 0.1), ('gamma', 0.9)]) -0.32\n",
      "OrderedDict([('alpha', 0.30000000000000004), ('beta', 0.30000000000000004), ('gamma', 0.1)]) -0.44\n",
      "OrderedDict([('alpha', 0.30000000000000004), ('beta', 0.30000000000000004), ('gamma', 0.30000000000000004)]) -0.4\n",
      "OrderedDict([('alpha', 0.30000000000000004), ('beta', 0.30000000000000004), ('gamma', 0.5)]) -0.78\n",
      "OrderedDict([('alpha', 0.30000000000000004), ('beta', 0.30000000000000004), ('gamma', 0.7000000000000001)]) -0.3\n",
      "OrderedDict([('alpha', 0.30000000000000004), ('beta', 0.30000000000000004), ('gamma', 0.9)]) -0.08\n",
      "OrderedDict([('alpha', 0.30000000000000004), ('beta', 0.5), ('gamma', 0.1)]) -0.38\n",
      "OrderedDict([('alpha', 0.30000000000000004), ('beta', 0.5), ('gamma', 0.30000000000000004)]) -0.58\n",
      "OrderedDict([('alpha', 0.30000000000000004), ('beta', 0.5), ('gamma', 0.5)]) 0.02\n",
      "OrderedDict([('alpha', 0.30000000000000004), ('beta', 0.5), ('gamma', 0.7000000000000001)]) -0.22\n",
      "OrderedDict([('alpha', 0.30000000000000004), ('beta', 0.5), ('gamma', 0.9)]) 0.24\n",
      "OrderedDict([('alpha', 0.30000000000000004), ('beta', 0.7000000000000001), ('gamma', 0.1)]) 0.02\n",
      "OrderedDict([('alpha', 0.30000000000000004), ('beta', 0.7000000000000001), ('gamma', 0.30000000000000004)]) -0.36\n",
      "OrderedDict([('alpha', 0.30000000000000004), ('beta', 0.7000000000000001), ('gamma', 0.5)]) -0.64\n",
      "OrderedDict([('alpha', 0.30000000000000004), ('beta', 0.7000000000000001), ('gamma', 0.7000000000000001)]) 0.14\n",
      "OrderedDict([('alpha', 0.30000000000000004), ('beta', 0.7000000000000001), ('gamma', 0.9)]) -0.3\n",
      "OrderedDict([('alpha', 0.30000000000000004), ('beta', 0.9), ('gamma', 0.1)]) -0.1\n",
      "OrderedDict([('alpha', 0.30000000000000004), ('beta', 0.9), ('gamma', 0.30000000000000004)]) -0.32\n",
      "OrderedDict([('alpha', 0.30000000000000004), ('beta', 0.9), ('gamma', 0.5)]) -0.48\n",
      "OrderedDict([('alpha', 0.30000000000000004), ('beta', 0.9), ('gamma', 0.7000000000000001)]) -0.24\n",
      "OrderedDict([('alpha', 0.30000000000000004), ('beta', 0.9), ('gamma', 0.9)]) -0.46\n",
      "OrderedDict([('alpha', 0.5), ('beta', 0.1), ('gamma', 0.1)]) 0.24\n",
      "OrderedDict([('alpha', 0.5), ('beta', 0.1), ('gamma', 0.30000000000000004)]) -0.76\n",
      "OrderedDict([('alpha', 0.5), ('beta', 0.1), ('gamma', 0.5)]) 0.32\n",
      "OrderedDict([('alpha', 0.5), ('beta', 0.1), ('gamma', 0.7000000000000001)]) 0.76\n",
      "OrderedDict([('alpha', 0.5), ('beta', 0.1), ('gamma', 0.9)]) 0.2\n",
      "OrderedDict([('alpha', 0.5), ('beta', 0.30000000000000004), ('gamma', 0.1)]) 0.48\n",
      "OrderedDict([('alpha', 0.5), ('beta', 0.30000000000000004), ('gamma', 0.30000000000000004)]) -0.12\n",
      "OrderedDict([('alpha', 0.5), ('beta', 0.30000000000000004), ('gamma', 0.5)]) -0.46\n",
      "OrderedDict([('alpha', 0.5), ('beta', 0.30000000000000004), ('gamma', 0.7000000000000001)]) 0.26\n",
      "OrderedDict([('alpha', 0.5), ('beta', 0.30000000000000004), ('gamma', 0.9)]) 0.68\n",
      "OrderedDict([('alpha', 0.5), ('beta', 0.5), ('gamma', 0.1)]) 0.2\n",
      "OrderedDict([('alpha', 0.5), ('beta', 0.5), ('gamma', 0.30000000000000004)]) -0.4\n",
      "OrderedDict([('alpha', 0.5), ('beta', 0.5), ('gamma', 0.5)]) 0.86\n",
      "OrderedDict([('alpha', 0.5), ('beta', 0.5), ('gamma', 0.7000000000000001)]) 0.04\n",
      "OrderedDict([('alpha', 0.5), ('beta', 0.5), ('gamma', 0.9)]) -0.98\n",
      "OrderedDict([('alpha', 0.5), ('beta', 0.7000000000000001), ('gamma', 0.1)]) -0.04\n",
      "OrderedDict([('alpha', 0.5), ('beta', 0.7000000000000001), ('gamma', 0.30000000000000004)]) 0.36\n",
      "OrderedDict([('alpha', 0.5), ('beta', 0.7000000000000001), ('gamma', 0.5)]) 0.56\n",
      "OrderedDict([('alpha', 0.5), ('beta', 0.7000000000000001), ('gamma', 0.7000000000000001)]) 0.7\n",
      "OrderedDict([('alpha', 0.5), ('beta', 0.7000000000000001), ('gamma', 0.9)]) -0.02\n",
      "OrderedDict([('alpha', 0.5), ('beta', 0.9), ('gamma', 0.1)]) -0.4\n",
      "OrderedDict([('alpha', 0.5), ('beta', 0.9), ('gamma', 0.30000000000000004)]) 0.22\n",
      "OrderedDict([('alpha', 0.5), ('beta', 0.9), ('gamma', 0.5)]) -0.88\n",
      "OrderedDict([('alpha', 0.5), ('beta', 0.9), ('gamma', 0.7000000000000001)]) 0.38\n",
      "OrderedDict([('alpha', 0.5), ('beta', 0.9), ('gamma', 0.9)]) -0.44\n",
      "OrderedDict([('alpha', 0.7000000000000001), ('beta', 0.1), ('gamma', 0.1)]) 2.84\n",
      "OrderedDict([('alpha', 0.7000000000000001), ('beta', 0.1), ('gamma', 0.30000000000000004)]) 3.8\n",
      "OrderedDict([('alpha', 0.7000000000000001), ('beta', 0.1), ('gamma', 0.5)]) 3.28\n",
      "OrderedDict([('alpha', 0.7000000000000001), ('beta', 0.1), ('gamma', 0.7000000000000001)]) 3.02\n",
      "OrderedDict([('alpha', 0.7000000000000001), ('beta', 0.1), ('gamma', 0.9)]) 3.18\n",
      "OrderedDict([('alpha', 0.7000000000000001), ('beta', 0.30000000000000004), ('gamma', 0.1)]) 3.58\n",
      "OrderedDict([('alpha', 0.7000000000000001), ('beta', 0.30000000000000004), ('gamma', 0.30000000000000004)]) 2.56\n",
      "OrderedDict([('alpha', 0.7000000000000001), ('beta', 0.30000000000000004), ('gamma', 0.5)]) 3.06\n",
      "OrderedDict([('alpha', 0.7000000000000001), ('beta', 0.30000000000000004), ('gamma', 0.7000000000000001)]) 3.78\n",
      "OrderedDict([('alpha', 0.7000000000000001), ('beta', 0.30000000000000004), ('gamma', 0.9)]) 3.54\n",
      "OrderedDict([('alpha', 0.7000000000000001), ('beta', 0.5), ('gamma', 0.1)]) 3.52\n",
      "OrderedDict([('alpha', 0.7000000000000001), ('beta', 0.5), ('gamma', 0.30000000000000004)]) 3.66\n",
      "OrderedDict([('alpha', 0.7000000000000001), ('beta', 0.5), ('gamma', 0.5)]) 2.66\n",
      "OrderedDict([('alpha', 0.7000000000000001), ('beta', 0.5), ('gamma', 0.7000000000000001)]) 3.4\n",
      "OrderedDict([('alpha', 0.7000000000000001), ('beta', 0.5), ('gamma', 0.9)]) 3.7\n",
      "OrderedDict([('alpha', 0.7000000000000001), ('beta', 0.7000000000000001), ('gamma', 0.1)]) 3.16\n",
      "OrderedDict([('alpha', 0.7000000000000001), ('beta', 0.7000000000000001), ('gamma', 0.30000000000000004)]) 3.32\n",
      "OrderedDict([('alpha', 0.7000000000000001), ('beta', 0.7000000000000001), ('gamma', 0.5)]) 2.86\n",
      "OrderedDict([('alpha', 0.7000000000000001), ('beta', 0.7000000000000001), ('gamma', 0.7000000000000001)]) 3.42\n",
      "OrderedDict([('alpha', 0.7000000000000001), ('beta', 0.7000000000000001), ('gamma', 0.9)]) 3.32\n",
      "OrderedDict([('alpha', 0.7000000000000001), ('beta', 0.9), ('gamma', 0.1)]) 2.38\n",
      "OrderedDict([('alpha', 0.7000000000000001), ('beta', 0.9), ('gamma', 0.30000000000000004)]) 2.68\n",
      "OrderedDict([('alpha', 0.7000000000000001), ('beta', 0.9), ('gamma', 0.5)]) 3.74\n",
      "OrderedDict([('alpha', 0.7000000000000001), ('beta', 0.9), ('gamma', 0.7000000000000001)]) 3.4\n",
      "OrderedDict([('alpha', 0.7000000000000001), ('beta', 0.9), ('gamma', 0.9)]) 2.38\n",
      "OrderedDict([('alpha', 0.9), ('beta', 0.1), ('gamma', 0.1)]) 6.36\n",
      "OrderedDict([('alpha', 0.9), ('beta', 0.1), ('gamma', 0.30000000000000004)]) 6.78\n",
      "OrderedDict([('alpha', 0.9), ('beta', 0.1), ('gamma', 0.5)]) 6.32\n",
      "OrderedDict([('alpha', 0.9), ('beta', 0.1), ('gamma', 0.7000000000000001)]) 6.48\n",
      "OrderedDict([('alpha', 0.9), ('beta', 0.1), ('gamma', 0.9)]) 6.38\n",
      "OrderedDict([('alpha', 0.9), ('beta', 0.30000000000000004), ('gamma', 0.1)]) 6.42\n",
      "OrderedDict([('alpha', 0.9), ('beta', 0.30000000000000004), ('gamma', 0.30000000000000004)]) 6.34\n",
      "OrderedDict([('alpha', 0.9), ('beta', 0.30000000000000004), ('gamma', 0.5)]) 6.26\n",
      "OrderedDict([('alpha', 0.9), ('beta', 0.30000000000000004), ('gamma', 0.7000000000000001)]) 6.38\n",
      "OrderedDict([('alpha', 0.9), ('beta', 0.30000000000000004), ('gamma', 0.9)]) 6.48\n",
      "OrderedDict([('alpha', 0.9), ('beta', 0.5), ('gamma', 0.1)]) 6.3\n",
      "OrderedDict([('alpha', 0.9), ('beta', 0.5), ('gamma', 0.30000000000000004)]) 6.62\n"
     ]
    },
    {
     "name": "stdout",
     "output_type": "stream",
     "text": [
      "OrderedDict([('alpha', 0.9), ('beta', 0.5), ('gamma', 0.5)]) 6.7\n",
      "OrderedDict([('alpha', 0.9), ('beta', 0.5), ('gamma', 0.7000000000000001)]) 6.32\n",
      "OrderedDict([('alpha', 0.9), ('beta', 0.5), ('gamma', 0.9)]) 6.42\n",
      "OrderedDict([('alpha', 0.9), ('beta', 0.7000000000000001), ('gamma', 0.1)]) 6.16\n",
      "OrderedDict([('alpha', 0.9), ('beta', 0.7000000000000001), ('gamma', 0.30000000000000004)]) 6.5\n",
      "OrderedDict([('alpha', 0.9), ('beta', 0.7000000000000001), ('gamma', 0.5)]) 6.24\n",
      "OrderedDict([('alpha', 0.9), ('beta', 0.7000000000000001), ('gamma', 0.7000000000000001)]) 6.36\n",
      "OrderedDict([('alpha', 0.9), ('beta', 0.7000000000000001), ('gamma', 0.9)]) 6.62\n",
      "OrderedDict([('alpha', 0.9), ('beta', 0.9), ('gamma', 0.1)]) 6.98\n",
      "OrderedDict([('alpha', 0.9), ('beta', 0.9), ('gamma', 0.30000000000000004)]) 6.7\n",
      "OrderedDict([('alpha', 0.9), ('beta', 0.9), ('gamma', 0.5)]) 6.62\n",
      "OrderedDict([('alpha', 0.9), ('beta', 0.9), ('gamma', 0.7000000000000001)]) 6.66\n",
      "OrderedDict([('alpha', 0.9), ('beta', 0.9), ('gamma', 0.9)]) 6.48\n"
     ]
    }
   ],
   "source": [
    "\"\"\"\n",
    "A 'sweep' is essentially a collection of parameter resolvers. Sweeps can be created\n",
    "to specify values directly(this is one way to get classical information into a circuit).\n",
    "\"\"\"\n",
    "sweep = (cirq.Linspace(key='alpha', start=0.1, stop=0.9, length=5)\n",
    "         * cirq.Linspace(key='beta', start=0.1, stop=0.9, length=5)\n",
    "         * cirq.Linspace(key='gamma', start=0.1, stop=0.9, length=5))\n",
    "results = simulator.run_sweep(circuit, params=sweep, repetitions=100)\n",
    "for result in results:\n",
    "    print(result.params.param_dict, obj_func(result))"
   ]
  },
  {
   "cell_type": "code",
   "execution_count": 16,
   "metadata": {},
   "outputs": [
    {
     "name": "stdout",
     "output_type": "stream",
     "text": [
      "Minimum objective value is -1.42.\n"
     ]
    }
   ],
   "source": [
    "# Finding the minimum.\n",
    "sweep_size = 10\n",
    "sweep = (cirq.Linspace(key='alpha', start=0.0, stop=1.0, length=10)\n",
    "         * cirq.Linspace(key='beta', start=0.0, stop=1.0, length=10)\n",
    "         * cirq.Linspace(key='gamma', start=0.0, stop=1.0, length=10))\n",
    "results = simulator.run_sweep(circuit, params=sweep, repetitions=100)\n",
    "\n",
    "min = None\n",
    "min_params = None\n",
    "for result in results:\n",
    "    value = obj_func(result)\n",
    "    if min is None or value < min:\n",
    "        min = value\n",
    "        min_params = result.params\n",
    "print('Minimum objective value is {}.'.format(min))"
   ]
  },
  {
   "cell_type": "code",
   "execution_count": 17,
   "metadata": {},
   "outputs": [
    {
     "name": "stdout",
     "output_type": "stream",
     "text": [
      "(0, 0)\n"
     ]
    }
   ],
   "source": [
    "## Circuits ##\n",
    "\n",
    "# Create a 3x3 grid of qubits using\n",
    "\"\"\"\n",
    "This is appears like an 8 classical bit represention. If we plug in\n",
    "qubit[1] we print -> (0, 1), qubit[2] -> (0, 2), qubit[3] -> (1, 0),\n",
    "qubit[4] -> (1, 1)...etc.\n",
    "\"\"\"\n",
    "qubits = [cirq.GridQubit(x, y) for x in range(3) for y in range(3)]\n",
    "\n",
    "print(qubits[0])"
   ]
  },
  {
   "cell_type": "code",
   "execution_count": 18,
   "metadata": {},
   "outputs": [
    {
     "name": "stdout",
     "output_type": "stream",
     "text": [
      "X((0, 0))\n"
     ]
    }
   ],
   "source": [
    "\"\"\"\n",
    "The next concept is that of a 'Gate'. A 'Gate' represents a physical\n",
    "process that occurs on a Qubit. The important property is that it can\n",
    "be applied to one or more qubits. We do this via the 'Gate.on' method via '()'\n",
    "and doing this turns the 'Gate' into a 'GateOperation'.\n",
    "\"\"\"\n",
    "\n",
    "# This is a Pauli X gate. It is an object instance.\n",
    "x_gate = cirq.X\n",
    "# Applying it to the qubit at location (0, 0) (defined above)\n",
    "# turns it into an operation.\n",
    "x_op = x_gate(qubits[0])\n",
    "\n",
    "print(x_op)"
   ]
  },
  {
   "cell_type": "code",
   "execution_count": 19,
   "metadata": {},
   "outputs": [
    {
     "name": "stdout",
     "output_type": "stream",
     "text": [
      "X((0, 2)) and CZ((0, 0), (0, 1))\n"
     ]
    }
   ],
   "source": [
    "\"\"\"\n",
    "We've mentioned 'Moment's already, collections of operations.\n",
    "Here is an example of a Moment in which Pauli X and CZ gate\n",
    "operate on 3 qubits.\n",
    "\"\"\"\n",
    "\n",
    "cz = cirq.CZ(qubits[0], qubits[1])\n",
    "x = cirq.X(qubits[2])\n",
    "moment = cirq.Moment([x, cz])\n",
    "\n",
    "print(moment)"
   ]
  },
  {
   "cell_type": "code",
   "execution_count": 20,
   "metadata": {},
   "outputs": [
    {
     "name": "stdout",
     "output_type": "stream",
     "text": [
      "(0, 0): ───@───────\n",
      "           │\n",
      "(0, 1): ───@───@───\n",
      "               │\n",
      "(0, 2): ───X───@───\n"
     ]
    }
   ],
   "source": [
    "\"\"\"\n",
    "A 'Circuit' is an ordered series of 'Moment's.\n",
    "Here is a circuit made up of two moments.\n",
    "\"\"\"\n",
    "\n",
    "cz01 = cirq.CZ(qubits[0], qubits[1])\n",
    "x2 = cirq.X(qubits[2])\n",
    "cz12 = cirq.CZ(qubits[1], qubits[2])\n",
    "moment0 = cirq.Moment([cz01, x2])\n",
    "moment1 = cirq.Moment([cz12])\n",
    "circuit = cirq.Circuit((moment0, moment1))\n",
    "\n",
    "print(circuit)"
   ]
  },
  {
   "cell_type": "code",
   "execution_count": 21,
   "metadata": {},
   "outputs": [
    {
     "name": "stdout",
     "output_type": "stream",
     "text": [
      "(0, 0): ───@───\n",
      "           │\n",
      "(1, 0): ───@───\n",
      "\n",
      "(2, 0): ───H───\n"
     ]
    }
   ],
   "source": [
    "# Construncting the Circuits #\n",
    "# One of the most useful ways of constructing a circuit is\n",
    "# by appending onto a 'Circuit' with the 'Circuti.append' method.\n",
    "\n",
    "from cirq.ops import CZ, H\n",
    "q0, q1, q2 = [cirq.GridQubit(i, 0) for i in range(3)]\n",
    "circuit = cirq.Circuit()\n",
    "circuit.append([CZ(q0, q1), H(q2)])\n",
    "\n",
    "print(circuit)\n",
    "# this appends an entire new moment to the qubit."
   ]
  },
  {
   "cell_type": "code",
   "execution_count": 22,
   "metadata": {},
   "outputs": [
    {
     "name": "stdout",
     "output_type": "stream",
     "text": [
      "(0, 0): ───@───H───\n",
      "           │\n",
      "(1, 0): ───@───@───\n",
      "               │\n",
      "(2, 0): ───H───@───\n"
     ]
    }
   ],
   "source": [
    "# Let's do it again!\n",
    "circuit.append([H(q0), CZ(q1, q2)])\n",
    "\n",
    "print(circuit)"
   ]
  },
  {
   "cell_type": "code",
   "execution_count": 23,
   "metadata": {},
   "outputs": [
    {
     "name": "stdout",
     "output_type": "stream",
     "text": [
      "(0, 0): ───@───H───\n",
      "           │\n",
      "(1, 0): ───@───@───\n",
      "               │\n",
      "(2, 0): ───H───@───\n"
     ]
    }
   ],
   "source": [
    "# What happens if we append all of these moments at once.\n",
    "circuit = cirq.Circuit()\n",
    "circuit.append([CZ(q0, q1), H(q2), H(q0), CZ(q1, q2)])\n",
    "\n",
    "print(circuit)\n",
    "# I don't really understand why appending more gates acting on\n",
    "# different qubits generates the same two moments?\n",
    "# What happens to 'CZ(q0, q1)' and 'H(q2)'?? I think this \n",
    "# is just a representation of appending both moments at the same time.\n",
    "# The two examples above appended each moment in sequence."
   ]
  },
  {
   "cell_type": "code",
   "execution_count": 24,
   "metadata": {},
   "outputs": [
    {
     "name": "stdout",
     "output_type": "stream",
     "text": [
      "(0, 0): ───@───H───\n",
      "           │\n",
      "(1, 0): ───@───────\n",
      "\n",
      "(2, 0): ───H───────\n"
     ]
    }
   ],
   "source": [
    "# InsertStrategies #\n",
    "\"\"\"\n",
    "'InsertStrategy' defines how Operations are placed in a 'Circuit' when requested\n",
    "to be inserted at a given 'location'. Here 'location' is defined by the index\n",
    "of the 'Moment' where the insertion is requested to be plced at. There are \n",
    "four different strategies.\n",
    "\"\"\"\n",
    "# If we first create an 'Operation' in a single moment, and then use \n",
    "# 'InsertStrategy.EARLIEST' the 'Operation' can slide back to the \n",
    "# first 'Moment' if there is space.\n",
    "\n",
    "from cirq.circuits import InsertStrategy\n",
    "circuit = cirq.Circuit()\n",
    "circuit.append([CZ(q0, q1)])\n",
    "circuit.append([H(q0), H(q2)], strategy=InsertStrategy.EARLIEST)\n",
    "\n",
    "print(circuit)\n",
    "# The H gate at q0 cannot slide back past the CZ gate operators, but\n",
    "# the H gate at q2 can, and so slides back to end up at the first\n",
    "# 'Moment'."
   ]
  },
  {
   "cell_type": "code",
   "execution_count": 25,
   "metadata": {},
   "outputs": [
    {
     "name": "stdout",
     "output_type": "stream",
     "text": [
      "(0, 0): ───H───\n",
      "\n",
      "(1, 0): ───H───\n",
      "\n",
      "(2, 0): ───H─── \n",
      "\n",
      "\n",
      "\n",
      "(0, 0): ───H───────────\n",
      "\n",
      "(1, 0): ───────H───────\n",
      "\n",
      "(2, 0): ───────────H───\n"
     ]
    }
   ],
   "source": [
    "# With 'InsertStrategy.NEW' each operation is created in a new moment.\n",
    "\n",
    "circuit = cirq.Circuit()\n",
    "circuit.append([H(q0), H(q1), H(q2)])\n",
    "print(circuit, \"\\n\")\n",
    "print(\"\\n\")\n",
    "\n",
    "# Now if apply the method...\n",
    "circuit = cirq.Circuit()\n",
    "circuit.append([H(q0), H(q1), H(q2)], strategy=InsertStrategy.NEW)\n",
    "print(circuit)\n",
    "# Useful when you insert a single operation and you don't\n",
    "# want it to interfere with other 'Moments'."
   ]
  },
  {
   "cell_type": "code",
   "execution_count": 26,
   "metadata": {},
   "outputs": [
    {
     "name": "stdout",
     "output_type": "stream",
     "text": [
      "(0, 0): ───────H───────\n",
      "\n",
      "(1, 0): ───@───@───H───\n",
      "           │   │\n",
      "(2, 0): ───@───@───H───\n"
     ]
    }
   ],
   "source": [
    "# Inline...\n",
    "circuit = cirq.Circuit()\n",
    "circuit.append([CZ(q1, q2)])\n",
    "circuit.append([CZ(q1, q2)])\n",
    "circuit.append([H(q0), H(q1), H(q2)], strategy=InsertStrategy.INLINE)\n",
    "\n",
    "print(circuit)"
   ]
  },
  {
   "cell_type": "code",
   "execution_count": 27,
   "metadata": {},
   "outputs": [
    {
     "name": "stdout",
     "output_type": "stream",
     "text": [
      "(0, 0): ───H───H───\n",
      "\n",
      "(1, 0): ───────@───\n",
      "               │\n",
      "(2, 0): ───────@───\n"
     ]
    }
   ],
   "source": [
    "# Default Strategy...'InsertStrategy.NEW_THEN_INLINE'\n",
    "\n",
    "circuit = cirq.Circuit()\n",
    "circuit.append([H(q0)])\n",
    "circuit.append([CZ(q1,q2), H(q0)], strategy=InsertStrategy.NEW_THEN_INLINE)\n",
    "\n",
    "print(circuit)"
   ]
  },
  {
   "cell_type": "code",
   "execution_count": 28,
   "metadata": {},
   "outputs": [
    {
     "name": "stdout",
     "output_type": "stream",
     "text": [
      "CZ((0, 0), (1, 0))\n",
      "[cirq.H.on(cirq.GridQubit(0, 0)), cirq.H.on(cirq.GridQubit(1, 0)), cirq.H.on(cirq.GridQubit(2, 0))]\n",
      "[cirq.CZ.on(cirq.GridQubit(1, 0), cirq.GridQubit(2, 0))]\n",
      "[cirq.H.on(cirq.GridQubit(0, 0)), [cirq.CZ.on(cirq.GridQubit(1, 0), cirq.GridQubit(2, 0))]]\n",
      "\n",
      "\n",
      "(0, 0): ───@───H───H───────\n",
      "           │\n",
      "(1, 0): ───@───H───@───@───\n",
      "                   │   │\n",
      "(2, 0): ───H───────@───@───\n"
     ]
    }
   ],
   "source": [
    "def my_layer():\n",
    "    yield CZ(q0, q1)\n",
    "    yield [H(q) for q in (q0, q1, q2)]\n",
    "    yield [CZ(q1, q2)]\n",
    "    yield [H(q0), [CZ(q1, q2)]]\n",
    "    \n",
    "circuit = cirq.Circuit()\n",
    "circuit.append(my_layer())\n",
    "\n",
    "for x in my_layer():\n",
    "    print(x)\n",
    "\n",
    "print(\"\\n\")\n",
    "print(circuit)"
   ]
  },
  {
   "cell_type": "code",
   "execution_count": 29,
   "metadata": {},
   "outputs": [
    {
     "name": "stdout",
     "output_type": "stream",
     "text": [
      "(0, 0): ───H───\n",
      "\n",
      "(1, 0): ───H───\n"
     ]
    }
   ],
   "source": [
    "circuit = cirq.Circuit.from_ops(H(q0), H(q1))\n",
    "print(circuit)"
   ]
  },
  {
   "cell_type": "code",
   "execution_count": 30,
   "metadata": {},
   "outputs": [
    {
     "name": "stdout",
     "output_type": "stream",
     "text": [
      "H((0, 0))\n",
      "CZ((0, 0), (1, 0))\n"
     ]
    }
   ],
   "source": [
    "# Slicing and Iterating over Circuits #\n",
    "# When circuits are iterated over, each item in the iteration is a moment.\n",
    "\n",
    "circuit = cirq.Circuit.from_ops(H(q0), CZ(q0, q1))\n",
    "for moment in circuit:\n",
    "    print(moment)"
   ]
  },
  {
   "cell_type": "code",
   "execution_count": 31,
   "metadata": {},
   "outputs": [
    {
     "name": "stdout",
     "output_type": "stream",
     "text": [
      "(0, 0): ───@───────\n",
      "           │\n",
      "(1, 0): ───@───H───\n",
      "\n",
      "\n",
      "(0, 0): ───H───@───────\n",
      "               │\n",
      "(1, 0): ───────@───H───\n",
      "\n",
      "\n",
      "(0, 0): ───@───────@───H───\n",
      "           │       │\n",
      "(1, 0): ───@───H───@───────\n"
     ]
    }
   ],
   "source": [
    "circuit = cirq.Circuit.from_ops(H(q0), CZ(q0, q1), H(q1), CZ(q0, q1))\n",
    "print(circuit[1:3])\n",
    "\n",
    "print(\"\\n\")\n",
    "# It's useful to have the ability of dropping the last moment,\n",
    "# which often are just measurements.\n",
    "print(circuit[:-1])\n",
    "\n",
    "print(\"\\n\")\n",
    "# Or even reversing a circuit.\n",
    "print(circuit[::-1])"
   ]
  },
  {
   "cell_type": "code",
   "execution_count": 32,
   "metadata": {},
   "outputs": [
    {
     "name": "stdout",
     "output_type": "stream",
     "text": [
      "CNOT((0, 0), (0, 1))\n",
      "CNOT((0, 0), (0, 1))\n"
     ]
    }
   ],
   "source": [
    "## Gates ##\n",
    "# A gate is an operation that can be applied to a collection of\n",
    "# qubits(objects with Qid). Gates can be applied to qubits by calling\n",
    "# their 'on' method, or by calling the gate on the qubits.\n",
    "\n",
    "from cirq.ops import CNOT\n",
    "from cirq.devices import GridQubit\n",
    "q0, q1 = (GridQubit(0, 0), GridQubit(0, 1))\n",
    "print(CNOT.on(q0, q1))\n",
    "print(CNOT(q0, q1))"
   ]
  },
  {
   "cell_type": "code",
   "execution_count": 33,
   "metadata": {},
   "outputs": [],
   "source": [
    "# Gates operate on a specific number of qubits and the classes that implement\n",
    "# 'Gate' must supply the 'num_qubits' method."
   ]
  },
  {
   "cell_type": "code",
   "execution_count": 34,
   "metadata": {},
   "outputs": [
    {
     "name": "stdout",
     "output_type": "stream",
     "text": [
      "[[0.+0.j 1.+0.j]\n",
      " [1.+0.j 0.+0.j]]\n",
      "\n",
      "\n",
      "[[0.5+0.5j 0.5-0.5j]\n",
      " [0.5-0.5j 0.5+0.5j]]\n"
     ]
    }
   ],
   "source": [
    "# Magic Mehtods #\n",
    "# cirq.unitary and def _unitary_\n",
    "\"\"\"\n",
    "When an object can be described by a unitary matrix, it can expose that matrix\n",
    "by implementing a '_unitary_(self) -> np.ndarray' method. Callers can query\n",
    "whether or not an object has a unitary matrix by calling 'cirq.unitary' on it.\n",
    "\"\"\"\n",
    "\n",
    "# cir.decompose and def _decompose_\n",
    "\"\"\"\n",
    "Operations and gates can be defined in terms of their operations by using the\n",
    "'_decompose_' method that returns those other operations.\n",
    "An example would be 'cirq.CCZ', which decomposes into a series of 'cirq.CNOT' and\n",
    "'cirq.T' operations. This allows code that doesn't understand 3-qubit operation \n",
    "to work with 'cirq.CCZ'; by decomposing it into operations they do understand.\n",
    "\n",
    "Another example is 'cirq.TOFFOLI', it decomposes into a 'cirq.H' followed by 'cirq.CCZ'\n",
    "\"\"\"\n",
    "\n",
    "import cirq\n",
    "print(cirq.unitary(cirq.X))\n",
    "\n",
    "print(\"\\n\")\n",
    "\n",
    "sqrt_x = cirq.X**0.5\n",
    "print(cirq.unitary(sqrt_x))\n",
    "# We can also get values from gates and operations. Like the square root of X gate."
   ]
  },
  {
   "cell_type": "code",
   "execution_count": 35,
   "metadata": {},
   "outputs": [
    {
     "name": "stdout",
     "output_type": "stream",
     "text": [
      "\n",
      "\n"
     ]
    }
   ],
   "source": [
    "# Gates\n",
    "\"\"\"\n",
    "Pauli gates included in Cirq use the convention \n",
    "'Z**0.5 := S := np.diag(1, i)', 'Z**-0.5 := S**-1',\n",
    "'X**0.5 := H•S•H', and the square root of 'Y' is infered\n",
    "via the right hand rule.\n",
    "\"\"\"\n",
    "# Xmon gates\n",
    "\"\"\"\n",
    "Google's Xmon devices support a specific gate set. Gates in this gate set operate\n",
    "on 'GridQubit', which are qubits arranged on a square grid, with x and y coords.\n",
    "\n",
    "cirq.PhasedXPowGate: This gate is a rotation about an axis in the XY plane of \n",
    "the Bloch sphere.\n",
    "\"\"\"\n",
    "print('\\n')"
   ]
  },
  {
   "cell_type": "code",
   "execution_count": 36,
   "metadata": {},
   "outputs": [
    {
     "name": "stdout",
     "output_type": "stream",
     "text": [
      "(0, 0): ───X^0.5───@───X^0.5───M('q0')───\n",
      "                   │\n",
      "(1, 0): ───X^0.5───@───X^0.5───M('q1')───\n"
     ]
    }
   ],
   "source": [
    "## Simulation ##\n",
    "# Intro to Pure State Simulation #\n",
    "# Cirq supports two main types of simulations: 'Pure State' and 'Mixed State'\n",
    "\n",
    "# Simple Circuit:\n",
    "import cirq\n",
    "\n",
    "q0 = cirq.GridQubit(0, 0)\n",
    "q1 = cirq.GridQubit(1, 0)\n",
    "\n",
    "def basic_circuit(meas=True):\n",
    "    sqrt_x = cirq.X**0.5\n",
    "    yield sqrt_x(q0), sqrt_x(q1)\n",
    "    yield cirq.CZ(q0, q1)\n",
    "    yield sqrt_x(q0), sqrt_x(q1)\n",
    "    if meas:\n",
    "        yield cirq.measure(q0, key='q0'), cirq.measure(q1, key='q1')\n",
    "        \n",
    "circuit = cirq.Circuit()\n",
    "circuit.append(basic_circuit())\n",
    "\n",
    "print(circuit)"
   ]
  },
  {
   "cell_type": "code",
   "execution_count": 37,
   "metadata": {},
   "outputs": [
    {
     "name": "stdout",
     "output_type": "stream",
     "text": [
      "q0=0\n",
      "q1=1\n"
     ]
    }
   ],
   "source": [
    "# Now we can simulate this by creating a 'cirq.Simulator' and\n",
    "# passing the circuit into its 'run' method.\n",
    "\n",
    "from cirq import Simulator\n",
    "simulator = Simulator()\n",
    "result = simulator.run(circuit)\n",
    "\n",
    "print(result)"
   ]
  },
  {
   "cell_type": "code",
   "execution_count": 38,
   "metadata": {},
   "outputs": [
    {
     "name": "stdout",
     "output_type": "stream",
     "text": [
      "q0=1\n",
      "q1=0\n"
     ]
    }
   ],
   "source": [
    "result = simulator.run(circuit)\n",
    "print(result)"
   ]
  },
  {
   "cell_type": "code",
   "execution_count": 39,
   "metadata": {},
   "outputs": [
    {
     "name": "stdout",
     "output_type": "stream",
     "text": [
      "[0.5+0.j  0. +0.5j 0. +0.5j 0.5+0.j ]\n"
     ]
    }
   ],
   "source": [
    "import numpy as np\n",
    "circuit = cirq.Circuit()\n",
    "circuit.append(basic_circuit(False))\n",
    "result = simulator.simulate(circuit, qubit_order=[q0, q1])\n",
    "\n",
    "print(np.around(result.final_state, 3))"
   ]
  },
  {
   "cell_type": "code",
   "execution_count": 40,
   "metadata": {},
   "outputs": [
    {
     "name": "stdout",
     "output_type": "stream",
     "text": [
      "[ 1  2 10 20]\n"
     ]
    }
   ],
   "source": [
    "# Qubit and Amplitude Ordering \n",
    "\n",
    "# The 'qubit_order' argument to the simulator's 'run' method determines the ordering of some\n",
    "# results, like the amplitudes in the final wave function. This is an optional argument.\n",
    "\n",
    "outside =[1, 10]\n",
    "inside = [1, 2]\n",
    "print(np.kron(outside, inside))"
   ]
  },
  {
   "cell_type": "code",
   "execution_count": 41,
   "metadata": {},
   "outputs": [
    {
     "name": "stdout",
     "output_type": "stream",
     "text": [
      "amps[0] is for first=0, second=0\n",
      "amps[1] is for first=0, second=1\n",
      "amps[2] is for first=1, second=0\n",
      "amps[3] is for first=1, second=1\n"
     ]
    }
   ],
   "source": [
    "i = 0\n",
    "for first in [0, 1]:\n",
    "    for second in [0, 1]:\n",
    "        print('amps[{}] is for first={}, second={}'.format(i , first, second))\n",
    "        i += 1"
   ]
  },
  {
   "cell_type": "code",
   "execution_count": 42,
   "metadata": {},
   "outputs": [
    {
     "name": "stdout",
     "output_type": "stream",
     "text": [
      "[0. 0. 1. 0.]\n",
      "[0. 1. 0. 0.]\n"
     ]
    }
   ],
   "source": [
    "# We can check that this is in fact the ordering with a circuit that flips\n",
    "# one qubit out of two:\n",
    "\n",
    "q_stay = cirq.NamedQubit('q_stay')\n",
    "q_flip = cirq.NamedQubit('q_flip')\n",
    "c = cirq.Circuit.from_ops(cirq.X(q_flip))\n",
    "\n",
    "# first qubit in order flipped\n",
    "result = simulator.simulate(c, qubit_order=[q_flip, q_stay])\n",
    "print(abs(result.final_state).round(3))\n",
    "\n",
    "# second qubit in order flipped\n",
    "result = simulator.simulate(c, qubit_order=[q_stay, q_flip])\n",
    "print(abs(result.final_state).round(3))"
   ]
  },
  {
   "cell_type": "code",
   "execution_count": 43,
   "metadata": {},
   "outputs": [
    {
     "name": "stdout",
     "output_type": "stream",
     "text": [
      "state at step 0: [0. +0.5j 0.5+0.j  0.5+0.j  0. -0.5j]\n",
      "state at step 1: [0. +0.5j 0.5+0.j  0.5+0.j  0. +0.5j]\n",
      "state at step 2: [0.5+0.j  0. +0.5j 0. +0.5j 0.5+0.j ]\n",
      "state at step 3: [0.+0.j 0.+1.j 0.+0.j 0.+0.j]\n"
     ]
    }
   ],
   "source": [
    "# Stepping through a Circuit #\n",
    "# It is useful to not only look at the end result of the circuit,\n",
    "# but also look at or even modify the state of the system at different\n",
    "# steps in the circuit.\n",
    "\n",
    "# using an iterator over a Moment by Moment simulation\n",
    "\n",
    "circuit = cirq.Circuit()\n",
    "circuit.append(basic_circuit())\n",
    "for i, step in enumerate(simulator.simulate_moment_steps(circuit)):\n",
    "    print('state at step %d: %s' % (i, np.around(step.state_vector(), 3)))"
   ]
  },
  {
   "cell_type": "code",
   "execution_count": 44,
   "metadata": {},
   "outputs": [
    {
     "name": "stdout",
     "output_type": "stream",
     "text": [
      "Counter({0: 76, 1: 24})\n"
     ]
    }
   ],
   "source": [
    "# Monte-Carlo Simulations of noise #\n",
    "# using a cirq.X Pauli gate we can simulate a\n",
    "# bitflip and then randomly apply a unitary \n",
    "# evolutions with different probabilities\n",
    "\n",
    "q = cirq.NamedQubit('a')\n",
    "circuit = cirq.Circuit.from_ops(cirq.bit_flip(p=0.2)(q), cirq.measure(q))\n",
    "simulator = cirq.Simulator()\n",
    "result = simulator.run(circuit, repetitions=100)\n",
    "print(result.histogram(key='a'))"
   ]
  },
  {
   "cell_type": "code",
   "execution_count": 45,
   "metadata": {},
   "outputs": [
    {
     "name": "stdout",
     "output_type": "stream",
     "text": [
      "[1.+0.j 0.+0.j 0.+0.j 0.+0.j]\n",
      "[ 0.6 +0.6j   0.25-0.25j  0.25-0.25j -0.1 -0.1j ]\n",
      "[0. +0.5j 0.5+0.j  0.5+0.j  0. -0.5j]\n",
      "[-0.1 +0.1j   0.25+0.25j  0.25+0.25j  0.6 -0.6j ]\n",
      "[0.+0.j 0.+0.j 0.+0.j 1.+0.j]\n"
     ]
    }
   ],
   "source": [
    "# Parameterized Values and Studies #\n",
    "import sympy\n",
    "rot_w_gate = cirq.X**sympy.Symbol('x')\n",
    "circuit  = cirq.Circuit()\n",
    "circuit.append([rot_w_gate(q0), rot_w_gate(q1)])\n",
    "for y in range(5):\n",
    "    resolver = cirq.ParamResolver({'x': y /4.0})\n",
    "    result = simulator.simulate(circuit, resolver)\n",
    "    print(np.round(result.final_state, 2))"
   ]
  },
  {
   "cell_type": "code",
   "execution_count": 46,
   "metadata": {},
   "outputs": [
    {
     "name": "stdout",
     "output_type": "stream",
     "text": [
      "q0=00\n",
      "q1=00\n",
      "q0=00\n",
      "q1=10\n",
      "q0=11\n",
      "q1=11\n"
     ]
    }
   ],
   "source": [
    "# a study ---> a collection of trials\n",
    "\n",
    "resolvers = [cirq.ParamResolver({'x': y / 2.0}) for y in range(3)]\n",
    "circuit = cirq.Circuit()\n",
    "circuit.append([rot_w_gate(q0), rot_w_gate(q1)])\n",
    "circuit.append([cirq.measure(q0, key='q0'), cirq.measure(q1, key='q1')])\n",
    "results = simulator.run_sweep(program=circuit,\n",
    "                              params=resolvers,\n",
    "                              repetitions=2)\n",
    "\n",
    "for result in results:\n",
    "    print(result)"
   ]
  },
  {
   "cell_type": "code",
   "execution_count": 47,
   "metadata": {},
   "outputs": [
    {
     "name": "stdout",
     "output_type": "stream",
     "text": [
      "Counter({0: 57, 1: 43})\n"
     ]
    }
   ],
   "source": [
    "# Mixed state simulations #\n",
    "# These kinds of simulations are supported\n",
    "# by the 'cirq.DensityMatrixSimulator' class.\n",
    "# Here we simulate a single channel using the mixed state sim.\n",
    "\n",
    "q = cirq.NamedQubit('a')\n",
    "circuit = cirq.Circuit.from_ops(cirq.H(q), cirq.amplitude_damp(0.2)(q), cirq.measure(q))\n",
    "simulator = cirq.DensityMatrixSimulator()\n",
    "result = simulator.run(circuit, repetitions=100)\n",
    "print(result.histogram(key='a'))"
   ]
  },
  {
   "cell_type": "code",
   "execution_count": 48,
   "metadata": {},
   "outputs": [
    {
     "name": "stdout",
     "output_type": "stream",
     "text": [
      "[[0.6  +0.j 0.447+0.j]\n",
      " [0.447+0.j 0.4  +0.j]]\n"
     ]
    }
   ],
   "source": [
    "q = cirq.NamedQubit('a')\n",
    "circuit = cirq.Circuit.from_ops(cirq.H(q), cirq.amplitude_damp(0.2)(q))\n",
    "simulator = cirq.DensityMatrixSimulator()\n",
    "result = simulator.simulate(circuit)\n",
    "print(np.around(result.final_density_matrix, 3))"
   ]
  },
  {
   "cell_type": "code",
   "execution_count": 49,
   "metadata": {},
   "outputs": [],
   "source": [
    "# Schedules and Devices # \n",
    "import cirq\n",
    "from cirq.devices import GridQubit\n",
    "class Xmon10Device(cirq.Device):\n",
    "    \n",
    "    def __init__(self):\n",
    "        self.qubits = [GridQubit(i, 0) for i in range(10)]\n",
    "        \n",
    "    def duration_of(self, operation):\n",
    "        # Wouldn't it be NOICE if everything took 10ns?!\n",
    "        return cirq.Duration(nanos=10)\n",
    "    \n",
    "    def validate_operation(self, operation):\n",
    "        if not isinstance(operation, cirq.GateOperation):\n",
    "            raise ValueError('{!r} is not a supported operation'.format(operation))\n",
    "        if not isinstance(operation.gate, (cirq.CZPowGate,\n",
    "                                           cirq.XPowGate,\n",
    "                                           cirq.PhasedXPowGate,\n",
    "                                           cirq.YPowGate)):\n",
    "            raise ValueError('{!r} is not a supported gate'.format(operation.gate))\n",
    "        if len(operation.qubits) == 2:\n",
    "            p, q = operation.qubits\n",
    "            if not p.is_adjacent(q):\n",
    "                raise ValueError('Non-local interaction: {}'.format(repr(operation)))\n",
    "                \n",
    "                \n",
    "    def validate_scheduled_operation(self, schedule, scheduled_operation):\n",
    "        self.validate_operation(scheduled_operation.operation)\n",
    "        \n",
    "    def validate_circuit(self, circuit):\n",
    "        for moment in circuit:\n",
    "            for operation in moment.operations:\n",
    "                self.validate_operation(operation)\n",
    "                \n",
    "    def validate_schedule(self, schedule):\n",
    "        for scheduled_operation in schedule.scheduled_operations:\n",
    "            self.validate_scheduled_operation(schedule, scheduled_operation)"
   ]
  },
  {
   "cell_type": "code",
   "execution_count": 50,
   "metadata": {},
   "outputs": [
    {
     "name": "stdout",
     "output_type": "stream",
     "text": [
      "Non-local interaction: cirq.CZ.on(cirq.GridQubit(0, 0), cirq.GridQubit(2, 0))\n"
     ]
    }
   ],
   "source": [
    "# The device that we just created above will\n",
    "# recognize that two qubit gates between \n",
    "# next-nearest-neighbors is not valid.\n",
    "\n",
    "device = Xmon10Device()\n",
    "circuit = cirq.Circuit()\n",
    "circuit.append([cirq.CZ(device.qubits[0], device.qubits[2])])\n",
    "try:\n",
    "    device.validate_circuit(circuit)\n",
    "except ValueError as e:\n",
    "    print(e)"
   ]
  },
  {
   "cell_type": "code",
   "execution_count": 51,
   "metadata": {},
   "outputs": [
    {
     "name": "stdout",
     "output_type": "stream",
     "text": [
      "(0, 0): ───@───X───\n",
      "           │\n",
      "(1, 0): ───@───────\n"
     ]
    }
   ],
   "source": [
    "# Schedules #\n",
    "# Schedules contain far more information about timing than 'Moment' structures \n",
    "# of a circuit do. This is useful for optimization of a circuit for a \n",
    "# particular device.\n",
    "circuit = cirq.Circuit()\n",
    "circuit.append([cirq.CZ(device.qubits[0], device.qubits[1]), cirq.X(device.qubits[0])])\n",
    "print(circuit)"
   ]
  },
  {
   "cell_type": "code",
   "execution_count": 52,
   "metadata": {},
   "outputs": [
    {
     "name": "stdout",
     "output_type": "stream",
     "text": [
      "[ScheduledOperation(cirq.Timestamp(picos=10000), cirq.Duration(picos=10000), cirq.X.on(cirq.GridQubit(0, 0)))]\n"
     ]
    }
   ],
   "source": [
    "schedule = cirq.moment_by_moment_schedule(device, circuit)\n",
    "\n",
    "print(schedule[cirq.Timestamp(nanos=15)])"
   ]
  },
  {
   "cell_type": "code",
   "execution_count": 53,
   "metadata": {},
   "outputs": [
    {
     "name": "stdout",
     "output_type": "stream",
     "text": [
      "True\n"
     ]
    }
   ],
   "source": [
    "# slcing notation can be used as well...\n",
    "slice = schedule[cirq.Timestamp(nanos=5):cirq.Timestamp(nanos=15)]\n",
    "slice_schedule = cirq.Schedule(device, slice)\n",
    "print(slice_schedule == schedule)"
   ]
  },
  {
   "cell_type": "code",
   "execution_count": 71,
   "metadata": {},
   "outputs": [
    {
     "ename": "AttributeError",
     "evalue": "module 'cirq.line.line_qubit' has no attribute 'LineQid'",
     "output_type": "error",
     "traceback": [
      "\u001b[0;31m---------------------------------------------------------------------------\u001b[0m",
      "\u001b[0;31mAttributeError\u001b[0m                            Traceback (most recent call last)",
      "\u001b[0;32m<ipython-input-71-26390b476452>\u001b[0m in \u001b[0;36m<module>\u001b[0;34m()\u001b[0m\n\u001b[1;32m     15\u001b[0m         \u001b[0;32mreturn\u001b[0m \u001b[0;34m'[+1]'\u001b[0m\u001b[0;34m\u001b[0m\u001b[0;34m\u001b[0m\u001b[0m\n\u001b[1;32m     16\u001b[0m \u001b[0;34m\u001b[0m\u001b[0m\n\u001b[0;32m---> 17\u001b[0;31m \u001b[0mq0\u001b[0m \u001b[0;34m=\u001b[0m \u001b[0mcirq\u001b[0m\u001b[0;34m.\u001b[0m\u001b[0mline\u001b[0m\u001b[0;34m.\u001b[0m\u001b[0mline_qubit\u001b[0m\u001b[0;34m.\u001b[0m\u001b[0mLineQid\u001b[0m\u001b[0;34m(\u001b[0m\u001b[0;36m0\u001b[0m\u001b[0;34m,\u001b[0m \u001b[0mdimension\u001b[0m\u001b[0;34m=\u001b[0m\u001b[0;36m3\u001b[0m\u001b[0;34m)\u001b[0m\u001b[0;34m\u001b[0m\u001b[0;34m\u001b[0m\u001b[0m\n\u001b[0m\u001b[1;32m     18\u001b[0m circuit = cirq.Circuit(\n\u001b[1;32m     19\u001b[0m     \u001b[0mQutritPlusGate\u001b[0m\u001b[0;34m(\u001b[0m\u001b[0;34m)\u001b[0m\u001b[0;34m.\u001b[0m\u001b[0mon\u001b[0m\u001b[0;34m(\u001b[0m\u001b[0mq0\u001b[0m\u001b[0;34m)\u001b[0m\u001b[0;34m\u001b[0m\u001b[0;34m\u001b[0m\u001b[0m\n",
      "\u001b[0;31mAttributeError\u001b[0m: module 'cirq.line.line_qubit' has no attribute 'LineQid'"
     ]
    }
   ],
   "source": [
    "## Qudits ##\n",
    "\n",
    "# qudits are a generalization to d-dimensional system, qubits are two level quantum systems.\n",
    "\n",
    "class QutritPlusGate(cirq.SingleQubitGate):\n",
    "    def _qid_shape_(self):\n",
    "        return (3,)\n",
    "    \n",
    "    def _unitary_(self):\n",
    "        return np.array([[0, 0, 1],\n",
    "                         [1, 0, 0],\n",
    "                         [0, 1, 0]])\n",
    "    \n",
    "    def _circuit_diagram_info_(self, args):\n",
    "        return '[+1]'\n",
    "    \n",
    "q0 = cirq.line.line_qubit.LineQid(0, dimension=3)\n",
    "circuit = cirq.Circuit(\n",
    "    QutritPlusGate().on(q0)\n",
    ")\n",
    "\n",
    "print(circuit)"
   ]
  },
  {
   "cell_type": "code",
   "execution_count": 72,
   "metadata": {},
   "outputs": [],
   "source": [
    "### Don't Know What is Going on Above...### \n",
    "# making changes to the line_qubit.py file by adding in the LineQid class has not helped.\n",
    "# There may be a different .py file this program is pulling the modules from.\n",
    "# Need to run through all of the Cirq files..."
   ]
  },
  {
   "cell_type": "code",
   "execution_count": null,
   "metadata": {},
   "outputs": [],
   "source": []
  }
 ],
 "metadata": {
  "kernelspec": {
   "display_name": "Python 3",
   "language": "python",
   "name": "python3"
  },
  "language_info": {
   "codemirror_mode": {
    "name": "ipython",
    "version": 3
   },
   "file_extension": ".py",
   "mimetype": "text/x-python",
   "name": "python",
   "nbconvert_exporter": "python",
   "pygments_lexer": "ipython3",
   "version": "3.7.2"
  }
 },
 "nbformat": 4,
 "nbformat_minor": 2
}
